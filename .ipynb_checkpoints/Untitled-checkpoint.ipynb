{
 "cells": [
  {
   "cell_type": "code",
   "execution_count": 7,
   "metadata": {},
   "outputs": [
    {
     "name": "stdout",
     "output_type": "stream",
     "text": [
      "begin to read data files,time:14:46:52\n",
      "File Reading Finish,time:14:47:00\n"
     ]
    }
   ],
   "source": [
    "from test_set_read import Read_from_TestSet\n",
    "import pandas as pd\n",
    "import numpy as np\n",
    "import matplotlib.pyplot as plt\n",
    "import seaborn as sns\n",
    "sns.set_style('darkgrid')\n",
    "%matplotlib inline\n",
    "train_data = Read_from_TestSet()\n"
   ]
  },
  {
   "cell_type": "code",
   "execution_count": 72,
   "metadata": {},
   "outputs": [
    {
     "name": "stdout",
     "output_type": "stream",
     "text": [
      "5\n"
     ]
    },
    {
     "data": {
      "text/plain": [
       "'from sklearn.model_selection import train_test_split\\nauthor = df[\\'author\\']\\ntext = df[\\'text\\']\\nX_train, X_test, Y_train, Y_test = train_test_split(author, text)\\nprint(\"Training set has {} instances. Test set has {} instances.\".format(X_train.shape[0], X_test.shape[0]))'"
      ]
     },
     "execution_count": 72,
     "metadata": {},
     "output_type": "execute_result"
    }
   ],
   "source": [
    "from collections import defaultdict \n",
    "res = defaultdict(list) \n",
    "for i, j in train_data: \n",
    "    res[i] = res[i]+ [x for x in j]\n",
    "my_dict = dict(res)\n",
    "#print(my_dict['8746'])\n",
    "#print(dct)\n",
    "print(my_dict['8746'].count('.....'))\n",
    "\"\"\"df = pd.DataFrame(train_data, columns=['author', 'text'])\n",
    "author = 0\n",
    "text_list = []\n",
    "text = {}\n",
    "\n",
    "for index,row in df.iterrows():\n",
    "    #print(row['author'])\n",
    "    if row['author'] in text:\n",
    "        \n",
    "        \n",
    "        text[row['author']].extend(row['text'])\n",
    "        \n",
    "        \n",
    "       \n",
    "    else:\n",
    "        \n",
    "        \n",
    "        text[row['author']] = row['text']\n",
    "       \n",
    "print(text['8746'])\"\"\"\n",
    "\"\"\"from sklearn.model_selection import train_test_split\n",
    "author = df['author']\n",
    "text = df['text']\n",
    "X_train, X_test, Y_train, Y_test = train_test_split(author, text)\n",
    "print(\"Training set has {} instances. Test set has {} instances.\".format(X_train.shape[0], X_test.shape[0]))\"\"\""
   ]
  },
  {
   "cell_type": "code",
   "execution_count": null,
   "metadata": {},
   "outputs": [],
   "source": []
  },
  {
   "cell_type": "code",
   "execution_count": null,
   "metadata": {},
   "outputs": [],
   "source": []
  }
 ],
 "metadata": {
  "kernelspec": {
   "display_name": "Python 3",
   "language": "python",
   "name": "python3"
  },
  "language_info": {
   "codemirror_mode": {
    "name": "ipython",
    "version": 3
   },
   "file_extension": ".py",
   "mimetype": "text/x-python",
   "name": "python",
   "nbconvert_exporter": "python",
   "pygments_lexer": "ipython3",
   "version": "3.7.3"
  }
 },
 "nbformat": 4,
 "nbformat_minor": 2
}
