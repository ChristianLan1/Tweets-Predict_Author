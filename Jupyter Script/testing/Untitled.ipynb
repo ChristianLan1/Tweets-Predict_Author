{
 "cells": [
  {
   "cell_type": "code",
   "execution_count": 1,
   "metadata": {},
   "outputs": [
    {
     "name": "stdout",
     "output_type": "stream",
     "text": [
      "begin to read data files,time:20:54:25\n",
      "File Reading Finish,time:20:54:42\n"
     ]
    }
   ],
   "source": [
    "from test_set_read import Read_from_TestSet\n",
    "import pandas as pd\n",
    "import numpy as np\n",
    "import matplotlib.pyplot as plt\n",
    "import seaborn as sns\n",
    "sns.set_style('darkgrid')\n",
    "%matplotlib inline\n",
    "train_data = Read_from_TestSet()\n"
   ]
  },
  {
   "cell_type": "code",
   "execution_count": 2,
   "metadata": {},
   "outputs": [
    {
     "name": "stdout",
     "output_type": "stream",
     "text": [
      "0\n"
     ]
    },
    {
     "data": {
      "text/plain": [
       "'from sklearn.model_selection import train_test_split\\nauthor = df[\\'author\\']\\ntext = df[\\'text\\']\\nX_train, X_test, Y_train, Y_test = train_test_split(author, text)\\nprint(\"Training set has {} instances. Test set has {} instances.\".format(X_train.shape[0], X_test.shape[0]))'"
      ]
     },
     "execution_count": 2,
     "metadata": {},
     "output_type": "execute_result"
    }
   ],
   "source": [
    "from collections import defaultdict \n",
    "res = defaultdict(list) \n",
    "for i, j in train_data: \n",
    "    res[i] = res[i]+ [x for x in j]\n",
    "my_dict = dict(res)\n",
    "#print(my_dict['8746'])\n",
    "#print(dct)\n",
    "print(my_dict['8746'].count('.....'))\n",
    "\"\"\"df = pd.DataFrame(train_data, columns=['author', 'text'])\n",
    "author = 0\n",
    "text_list = []\n",
    "text = {}\n",
    "\n",
    "for index,row in df.iterrows():\n",
    "    #print(row['author'])\n",
    "    if row['author'] in text:\n",
    "        \n",
    "        \n",
    "        text[row['author']].extend(row['text'])\n",
    "        \n",
    "        \n",
    "       \n",
    "    else:\n",
    "        \n",
    "        \n",
    "        text[row['author']] = row['text']\n",
    "       \n",
    "print(text['8746'])\"\"\"\n",
    "\"\"\"from sklearn.model_selection import train_test_split\n",
    "author = df['author']\n",
    "text = df['text']\n",
    "X_train, X_test, Y_train, Y_test = train_test_split(author, text)\n",
    "print(\"Training set has {} instances. Test set has {} instances.\".format(X_train.shape[0], X_test.shape[0]))\"\"\""
   ]
  },
  {
   "cell_type": "code",
   "execution_count": 9,
   "metadata": {},
   "outputs": [
    {
     "name": "stdout",
     "output_type": "stream",
     "text": [
      "TaggedDocument(['handle', 'hi', 'cat', 'was', 'wondering', 'if', 'you', 'would', 'sign', 'baseball', 'card', 'through', 'the', 'mail'], [3815])\n"
     ]
    }
   ],
   "source": [
    "from tqdm import tqdm\n",
    "tqdm.pandas(desc=\"progress-bar\")\n",
    "from gensim.models import Doc2Vec\n",
    "from sklearn import utils\n",
    "import gensim\n",
    "from gensim.models.doc2vec import TaggedDocument\n",
    "import re\n",
    "from sklearn.model_selection import train_test_split\n",
    "df = pd.read_csv('train_tweets.txt', header = None,sep='\\t')\n",
    "#print(df)\n",
    "df.columns = ['author','text']\n",
    "#df = pd.DataFrame(train_data, columns=['author', 'text'])\n",
    "author = df['author']\n",
    "text = df['text']\n",
    "\n",
    "train, test = train_test_split(df[:1000], test_size=0.3, random_state=42)\n",
    "import nltk\n",
    "from nltk.corpus import stopwords\n",
    "def tokenize_text(text):\n",
    "    tokens = []\n",
    "    for sent in nltk.sent_tokenize(text):\n",
    "        for word in nltk.word_tokenize(sent):\n",
    "            if len(word) < 2:\n",
    "                continue\n",
    "            tokens.append(word.lower())\n",
    "    return tokens\n",
    "train_tagged = train.apply(\n",
    "    lambda r: TaggedDocument(words=tokenize_text(r['text']), tags=[r.author]), axis=1)\n",
    "test_tagged = test.apply(\n",
    "    lambda r: TaggedDocument(words=tokenize_text(r['text']), tags=[r.author]), axis=1)\n",
    "\n",
    "print(train_tagged.values[0])"
   ]
  },
  {
   "cell_type": "code",
   "execution_count": 11,
   "metadata": {},
   "outputs": [
    {
     "name": "stdout",
     "output_type": "stream",
     "text": [
      "8\n"
     ]
    }
   ],
   "source": [
    "import multiprocessing\n",
    "cores = multiprocessing.cpu_count()\n",
    "print(cores)"
   ]
  },
  {
   "cell_type": "code",
   "execution_count": 21,
   "metadata": {},
   "outputs": [
    {
     "name": "stderr",
     "output_type": "stream",
     "text": [
      "C:\\ProgramData\\Anaconda3\\lib\\site-packages\\gensim\\models\\base_any2vec.py:743: UserWarning: C extension not loaded, training will be slow. Install a C compiler and reinstall gensim for fast training.\n",
      "  \"C extension not loaded, training will be slow. \"\n",
      "100%|████████████████████████████████████| 700/700 [00:00<00:00, 700384.73it/s]\n",
      "100%|████████████████████████████████████████████████| 700/700 [00:00<?, ?it/s]\n",
      "100%|████████████████████████████████████| 700/700 [00:00<00:00, 699217.15it/s]\n",
      "100%|████████████████████████████████████████████████| 700/700 [00:00<?, ?it/s]\n",
      "100%|████████████████████████████████████| 700/700 [00:00<00:00, 699717.06it/s]\n",
      "100%|████████████████████████████████████████████████| 700/700 [00:00<?, ?it/s]\n",
      "100%|████████████████████████████████████| 700/700 [00:00<00:00, 700384.73it/s]\n",
      "100%|████████████████████████████████████| 700/700 [00:00<00:00, 700384.73it/s]\n",
      "100%|████████████████████████████████████| 700/700 [00:00<00:00, 701556.22it/s]\n",
      "100%|████████████████████████████████████| 700/700 [00:00<00:00, 701388.63it/s]\n",
      "100%|████████████████████████████████████| 700/700 [00:00<00:00, 699883.86it/s]\n",
      "100%|████████████████████████████████████| 700/700 [00:00<00:00, 700217.70it/s]\n",
      "100%|████████████████████████████████████| 700/700 [00:00<00:00, 700384.73it/s]\n",
      "100%|████████████████████████████████████| 700/700 [00:00<00:00, 700551.85it/s]\n",
      "100%|████████████████████████████████████| 700/700 [00:00<00:00, 699050.67it/s]\n",
      "100%|████████████████████████████████████████████████| 700/700 [00:00<?, ?it/s]\n",
      "100%|████████████████████████████████████| 700/700 [00:00<00:00, 702731.64it/s]\n",
      "100%|████████████████████████████████████████████████| 700/700 [00:00<?, ?it/s]\n",
      "100%|████████████████████████████████████████████████| 700/700 [00:00<?, ?it/s]\n",
      "100%|████████████████████████████████████| 700/700 [00:00<00:00, 700551.85it/s]\n",
      "100%|████████████████████████████████████| 700/700 [00:00<00:00, 702227.41it/s]\n",
      "100%|████████████████████████████████████| 700/700 [00:00<00:00, 700384.73it/s]\n",
      "100%|████████████████████████████████████| 700/700 [00:00<00:00, 700886.32it/s]\n",
      "100%|████████████████████████████████████| 700/700 [00:00<00:00, 700384.73it/s]\n",
      "100%|████████████████████████████████████| 700/700 [00:00<00:00, 701891.66it/s]\n",
      "100%|████████████████████████████████████████████████| 700/700 [00:00<?, ?it/s]\n",
      "100%|████████████████████████████████████| 700/700 [00:00<00:00, 700551.85it/s]\n",
      "100%|████████████████████████████████████| 700/700 [00:00<00:00, 700551.85it/s]\n",
      "100%|████████████████████████████████████████████████| 700/700 [00:00<?, ?it/s]\n",
      "100%|████████████████████████████████████| 700/700 [00:00<00:00, 700050.74it/s]\n",
      "100%|████████████████████████████████████████████████| 700/700 [00:00<?, ?it/s]\n"
     ]
    }
   ],
   "source": [
    "model_dbow = Doc2Vec(dm=0, vector_size=300, negative=5, min_count=15, alpha=0.065, min_alpha=0.065)\n",
    "model_dbow.build_vocab([x for x in tqdm(train_tagged.values)])\n",
    "\n",
    "for epoch in range(30):\n",
    "    model_dbow.train(utils.shuffle([x for x in tqdm(train_tagged.values)]), total_examples=len(train_tagged.values), epochs=1)\n",
    "    model_dbow.alpha -= 0.002\n",
    "    model_dbow.min_alpha = model_dbow.alpha"
   ]
  },
  {
   "cell_type": "code",
   "execution_count": 20,
   "metadata": {},
   "outputs": [
    {
     "name": "stdout",
     "output_type": "stream",
     "text": [
      "(array([-0.03131738,  0.08722727,  0.02925882,  0.09875522,  0.08717991,\n",
      "        0.10422412, -0.19410866,  0.08946384, -0.00538243, -0.12347768,\n",
      "        0.03565061, -0.09805083, -0.08203804, -0.05408343, -0.02493394,\n",
      "        0.03850761, -0.06846736, -0.04325011,  0.06283724,  0.0111905 ,\n",
      "       -0.0565585 , -0.1260067 ,  0.01774266, -0.01563613, -0.12847003,\n",
      "        0.01363741, -0.04396375,  0.09216774,  0.10215259,  0.01640328,\n",
      "        0.00441635, -0.06269327,  0.02152584,  0.09396421,  0.04853328,\n",
      "       -0.02837271, -0.13151592, -0.08740183, -0.10708866,  0.17553689,\n",
      "       -0.05245179,  0.06429687, -0.00754783,  0.04279668,  0.04832714,\n",
      "       -0.07538051,  0.08357435,  0.00620718, -0.04781749,  0.07966918,\n",
      "       -0.05230391, -0.03724572,  0.16673964,  0.09876604, -0.01083407,\n",
      "        0.01403367,  0.1381347 , -0.02484476,  0.00985916,  0.13829914,\n",
      "        0.01385615, -0.00350267, -0.05376802,  0.05224146, -0.04685213,\n",
      "       -0.02693198, -0.09306385,  0.09088743,  0.06023801, -0.06488239,\n",
      "       -0.03020342,  0.11385601,  0.00608684, -0.11831821,  0.05620135,\n",
      "       -0.03885808, -0.13420433,  0.03975673, -0.00210806,  0.03001462,\n",
      "       -0.10574441, -0.09240764,  0.01027261, -0.04015645,  0.07039637,\n",
      "        0.09227838, -0.05032256, -0.05538538,  0.00264485, -0.03000699,\n",
      "       -0.12751478,  0.16760753, -0.06439894,  0.03842317,  0.09768808,\n",
      "       -0.00329821, -0.00180399,  0.10572765, -0.04295246,  0.08091485,\n",
      "        0.0840598 ,  0.00350419,  0.04360418, -0.0602073 , -0.05400798,\n",
      "        0.03233762,  0.07544994, -0.05125768, -0.08149187,  0.03708177,\n",
      "       -0.09046329,  0.03094533,  0.01621499, -0.03778441, -0.05219444,\n",
      "        0.03588265, -0.03001277,  0.00580576, -0.05725434,  0.03812158,\n",
      "       -0.07358086, -0.1399878 , -0.20090994,  0.05035478,  0.16315448,\n",
      "       -0.03011663, -0.02274434,  0.07912239, -0.03961095,  0.09668639,\n",
      "        0.05193336, -0.07700167,  0.04017045, -0.15032554,  0.10691571,\n",
      "        0.1187747 , -0.03001101, -0.08288279, -0.05440671, -0.03013528,\n",
      "       -0.15391895, -0.08680603, -0.06497668,  0.02619357, -0.04106651,\n",
      "        0.0477055 , -0.17065382,  0.04708913, -0.05110937, -0.02133274,\n",
      "       -0.04813252,  0.10086634, -0.11928027, -0.00336451, -0.10766695,\n",
      "       -0.10303785,  0.05888366,  0.08195482,  0.09377424,  0.04847506,\n",
      "        0.0926944 , -0.22613199,  0.09070862, -0.14660653, -0.02476553,\n",
      "        0.07322437, -0.06614342, -0.00316843, -0.01319159,  0.07487614,\n",
      "        0.01815201,  0.21292107,  0.00275332, -0.11830017, -0.08972885,\n",
      "       -0.13714527, -0.10194781,  0.00382236, -0.05604504, -0.13584605,\n",
      "        0.01931435,  0.02480627, -0.12191151,  0.11599872,  0.0680376 ,\n",
      "       -0.07645459, -0.10055836,  0.0372824 , -0.04387077, -0.01601553,\n",
      "        0.07111908, -0.25032565, -0.11847394,  0.00191001, -0.14732942,\n",
      "        0.08553755,  0.05209333, -0.06129147,  0.12936305, -0.10626505,\n",
      "       -0.00403857, -0.1103004 ,  0.0236304 ,  0.04781872, -0.06436083,\n",
      "       -0.11306091, -0.02340364,  0.03848601,  0.10243796,  0.02678369,\n",
      "       -0.11556468,  0.03847393,  0.11204686, -0.04251807,  0.08449376,\n",
      "        0.04775089, -0.07447895, -0.0466651 , -0.05186884,  0.04982329,\n",
      "        0.07005578, -0.02819785, -0.11107676,  0.06146732, -0.06377672,\n",
      "       -0.07076171,  0.09435294,  0.12018833,  0.02723583,  0.06091602,\n",
      "        0.14448135, -0.06384594, -0.00356352,  0.00372735,  0.04934908,\n",
      "       -0.023469  ,  0.13604946, -0.07906888, -0.14074357, -0.15610455,\n",
      "        0.05105944, -0.07879713,  0.05453066, -0.0163542 , -0.08107881,\n",
      "       -0.04882601,  0.06897354,  0.05330727, -0.04100925, -0.03262569,\n",
      "        0.05334305,  0.02052362,  0.10791691,  0.01157307,  0.020015  ,\n",
      "        0.01525536, -0.177528  , -0.14594802,  0.09456994, -0.08792036,\n",
      "       -0.05258073, -0.07621402,  0.05666871, -0.05056656, -0.0738015 ,\n",
      "       -0.03203442,  0.07122548,  0.00928691, -0.20635416, -0.00901024,\n",
      "        0.00779421,  0.11647377,  0.03491787,  0.03892317,  0.1452825 ,\n",
      "        0.00344365, -0.06912567,  0.00191287,  0.02903561,  0.03813072,\n",
      "        0.07806859, -0.12010769,  0.02308506, -0.06317866, -0.01836459,\n",
      "        0.00709516, -0.02986332,  0.11649664, -0.18329386,  0.05172926,\n",
      "       -0.05641708, -0.06814355,  0.04679197,  0.13816948, -0.04413047,\n",
      "       -0.01595033,  0.00429092, -0.00497873,  0.02148621, -0.12550695],\n",
      "      dtype=float32), array([ 0.01873009,  0.06435805,  0.00782673,  0.09370408, -0.02115919,\n",
      "        0.03195554, -0.12317722,  0.01133739, -0.05127176, -0.04219332,\n",
      "        0.06948063, -0.0897518 , -0.05530446, -0.01715258, -0.03829072,\n",
      "        0.05025738, -0.06043252, -0.00636535,  0.09270371, -0.02091865,\n",
      "       -0.0675152 , -0.06566343,  0.03473281,  0.01238274, -0.06848435,\n",
      "       -0.01324948, -0.03733734,  0.02396415, -0.01965318,  0.05103416,\n",
      "        0.02425362, -0.02916617,  0.05536015,  0.04737834,  0.04180781,\n",
      "        0.01647812, -0.11160318, -0.05750862, -0.02789515,  0.06911825,\n",
      "       -0.00758747,  0.00123914, -0.06680361,  0.04807333,  0.07253785,\n",
      "       -0.04925306,  0.03463226,  0.00178782, -0.01910114,  0.09358804,\n",
      "       -0.09226236, -0.03641192,  0.08488543,  0.04191472,  0.04099626,\n",
      "        0.01736632,  0.05524921, -0.03355652,  0.00625304,  0.04411789,\n",
      "        0.02314802, -0.00032931, -0.07466729,  0.03591924,  0.02237231,\n",
      "       -0.02672017, -0.06059099,  0.04836389,  0.05385137, -0.08321194,\n",
      "       -0.00781729,  0.05592632, -0.00138276, -0.07847611, -0.01042931,\n",
      "       -0.09777769, -0.06072734, -0.01724055, -0.00038211, -0.0089897 ,\n",
      "       -0.10180584, -0.03892645,  0.01901432, -0.09811237,  0.00870531,\n",
      "        0.05231268, -0.06663248, -0.08455677, -0.03329412, -0.03248419,\n",
      "       -0.03986713,  0.04536774, -0.06738526,  0.03557087, -0.00383229,\n",
      "       -0.00452351, -0.04161629,  0.01052982, -0.00609538,  0.04015455,\n",
      "        0.00204267, -0.00481668, -0.03877818, -0.02704338, -0.06431347,\n",
      "        0.0304276 ,  0.04089715, -0.02383057, -0.03727031,  0.04286048,\n",
      "       -0.02205608,  0.03469389,  0.01033642, -0.00800169,  0.00527595,\n",
      "       -0.04314961,  0.01199456,  0.01805336, -0.03223953,  0.003659  ,\n",
      "       -0.01328032, -0.01958539, -0.10205282,  0.01780028,  0.03984865,\n",
      "       -0.03716961, -0.03722803, -0.03975692, -0.00072875,  0.02030883,\n",
      "        0.06229282,  0.02703496,  0.03684323, -0.07224897,  0.06200535,\n",
      "        0.10892808, -0.02627944, -0.03158336, -0.0201338 , -0.01930561,\n",
      "       -0.09939247,  0.00632963, -0.04230503,  0.03762748, -0.02015487,\n",
      "       -0.04256772, -0.08745064,  0.02782357, -0.01854166,  0.01097465,\n",
      "       -0.01506625,  0.10219277, -0.05473552,  0.03708078, -0.05427479,\n",
      "       -0.03839975,  0.04377989,  0.03125732,  0.05681117,  0.04305654,\n",
      "        0.06683894, -0.08215871,  0.03235917, -0.08094902,  0.00407303,\n",
      "        0.08274537, -0.04624994, -0.0172997 , -0.06907433,  0.01402327,\n",
      "       -0.00621823,  0.10440144, -0.04580457, -0.06790368, -0.01767606,\n",
      "       -0.08238539, -0.05831908,  0.09136547, -0.0084603 , -0.04214175,\n",
      "        0.04483839, -0.01661146, -0.04830438,  0.03423109,  0.05001949,\n",
      "       -0.05979067, -0.05778582,  0.02558788, -0.00065096, -0.00878544,\n",
      "        0.04396598, -0.14839002, -0.03388995,  0.03556019, -0.04538292,\n",
      "        0.10139339,  0.01280322, -0.02478664,  0.07436233, -0.07458211,\n",
      "        0.03831412, -0.01285103, -0.0361063 ,  0.00767007, -0.02487396,\n",
      "       -0.08906075, -0.04115792, -0.00161915,  0.0725214 ,  0.04923096,\n",
      "       -0.03455257, -0.03369514,  0.06348098,  0.00987899,  0.0914402 ,\n",
      "        0.0258601 , -0.02649262, -0.02061249, -0.02082104,  0.03714909,\n",
      "        0.06504581, -0.02391614, -0.03773498,  0.0168776 , -0.09730107,\n",
      "       -0.06085868,  0.05150552,  0.0288783 ,  0.00061625,  0.07359284,\n",
      "        0.03512197, -0.02575887,  0.01769978, -0.02357218, -0.01881485,\n",
      "       -0.00463805,  0.07216311, -0.06900553, -0.03178382, -0.04519134,\n",
      "        0.00406103, -0.06442007,  0.02926068,  0.00270981, -0.0498996 ,\n",
      "       -0.02698016,  0.05801467,  0.03750101, -0.03080671, -0.03167971,\n",
      "        0.04402763,  0.03016932,  0.04858964,  0.06623165,  0.03403012,\n",
      "       -0.01323539, -0.12646164, -0.10548016,  0.0242831 , -0.03959978,\n",
      "       -0.00787885, -0.03339218, -0.03320004, -0.009698  , -0.07744786,\n",
      "        0.03998344,  0.02784017,  0.00728008, -0.0744443 ,  0.01468686,\n",
      "       -0.02789233, -0.03463828,  0.02910665,  0.03963648,  0.01731392,\n",
      "        0.0581823 , -0.00302623, -0.00207099, -0.04217669,  0.05298396,\n",
      "        0.04523048, -0.05973344,  0.00403821,  0.02050265,  0.0306747 ,\n",
      "       -0.03031786, -0.01154452,  0.02341845, -0.10143043, -0.01252976,\n",
      "       -0.01275008, -0.07354221,  0.04023401,  0.0639926 , -0.0476192 ,\n",
      "       -0.03806737, -0.03742937,  0.05322692, -0.01234152, -0.05683604],\n"
     ]
    },
    {
     "name": "stdout",
     "output_type": "stream",
     "text": [
      "      dtype=float32))\n",
      "Testing accuracy 0.53\n"
     ]
    },
    {
     "name": "stderr",
     "output_type": "stream",
     "text": [
      "C:\\ProgramData\\Anaconda3\\lib\\site-packages\\sklearn\\metrics\\classification.py:1437: UndefinedMetricWarning: F-score is ill-defined and being set to 0.0 in labels with no predicted samples.\n",
      "  'precision', 'predicted', average, warn_for)\n"
     ]
    },
    {
     "name": "stdout",
     "output_type": "stream",
     "text": [
      "Testing F1 score: 0.5125954970903428\n"
     ]
    }
   ],
   "source": [
    "from sklearn.linear_model import LogisticRegression\n",
    "from sklearn.multiclass import OneVsRestClassifier\n",
    "from sklearn.svm import LinearSVC\n",
    "\n",
    "\n",
    "def vec_for_learning(model, tagged_docs):\n",
    "    sents = tagged_docs.values\n",
    "    targets, regressors = zip(*[(doc.tags[0], model.infer_vector(doc.words, steps=20)) for doc in sents])\n",
    "    \n",
    "    return targets, regressors\n",
    "y_train, X_train = vec_for_learning(model_dbow, train_tagged)\n",
    "y_test, X_test = vec_for_learning(model_dbow, test_tagged)\n",
    "print(X_train[:2])\n",
    "logreg = OneVsRestClassifier(LinearSVC())\n",
    "#logreg = LogisticRegression(n_jobs=1, C=1e5)\n",
    "logreg.fit(X_train, y_train)\n",
    "y_pred = logreg.predict(X_test)\n",
    "from sklearn.metrics import accuracy_score, f1_score\n",
    "print('Testing accuracy %s' % accuracy_score(y_test, y_pred))\n",
    "print('Testing F1 score: {}'.format(f1_score(y_test, y_pred, average='weighted')))"
   ]
  },
  {
   "cell_type": "code",
   "execution_count": 15,
   "metadata": {},
   "outputs": [
    {
     "ename": "NameError",
     "evalue": "name 'OneVsRestClassifier' is not defined",
     "output_type": "error",
     "traceback": [
      "\u001b[1;31m---------------------------------------------------------------------------\u001b[0m",
      "\u001b[1;31mNameError\u001b[0m                                 Traceback (most recent call last)",
      "\u001b[1;32m<ipython-input-15-cfd6ce4a4225>\u001b[0m in \u001b[0;36m<module>\u001b[1;34m\u001b[0m\n\u001b[0;32m      4\u001b[0m \u001b[1;31m#mlb = MultiLabelBinarizer()\u001b[0m\u001b[1;33m\u001b[0m\u001b[1;33m\u001b[0m\u001b[1;33m\u001b[0m\u001b[0m\n\u001b[0;32m      5\u001b[0m \u001b[1;31m#mlb.fit_transform(y_train)\u001b[0m\u001b[1;33m\u001b[0m\u001b[1;33m\u001b[0m\u001b[1;33m\u001b[0m\u001b[0m\n\u001b[1;32m----> 6\u001b[1;33m \u001b[0mlogreg\u001b[0m \u001b[1;33m=\u001b[0m \u001b[0mOneVsRestClassifier\u001b[0m\u001b[1;33m(\u001b[0m\u001b[0mLinearSVC\u001b[0m\u001b[1;33m(\u001b[0m\u001b[1;33m)\u001b[0m\u001b[1;33m)\u001b[0m\u001b[1;33m\u001b[0m\u001b[1;33m\u001b[0m\u001b[0m\n\u001b[0m\u001b[0;32m      7\u001b[0m \u001b[1;31m#logreg = LogisticRegression(n_jobs=1, C=1e5)\u001b[0m\u001b[1;33m\u001b[0m\u001b[1;33m\u001b[0m\u001b[1;33m\u001b[0m\u001b[0m\n\u001b[0;32m      8\u001b[0m \u001b[0mlogreg\u001b[0m\u001b[1;33m.\u001b[0m\u001b[0mfit\u001b[0m\u001b[1;33m(\u001b[0m\u001b[0mtrain_vectors_dbow\u001b[0m\u001b[1;33m,\u001b[0m \u001b[0my_train\u001b[0m\u001b[1;33m)\u001b[0m\u001b[1;33m\u001b[0m\u001b[1;33m\u001b[0m\u001b[0m\n",
      "\u001b[1;31mNameError\u001b[0m: name 'OneVsRestClassifier' is not defined"
     ]
    }
   ],
   "source": [
    "from sklearn.linear_model import LogisticRegression\n",
    "from sklearn.preprocessing import MultiLabelBinarizer\n",
    "from sklearn.svm import LinearSVC\n",
    "#mlb = MultiLabelBinarizer()\n",
    "#mlb.fit_transform(y_train)\n",
    "logreg = OneVsRestClassifier(LinearSVC())\n",
    "#logreg = LogisticRegression(n_jobs=1, C=1e5)\n",
    "logreg.fit(train_vectors_dbow, y_train)\n",
    "logreg = logreg.fit(train_vectors_dbow, y_train)\n",
    "y_pred = logreg.predict(test_vectors_dbow)\n",
    "print('accuracy %s' % accuracy_score(y_pred, y_test))\n",
    "print(classification_report(y_test, y_pred,target_names=my_tags))"
   ]
  },
  {
   "cell_type": "code",
   "execution_count": null,
   "metadata": {},
   "outputs": [],
   "source": []
  },
  {
   "cell_type": "code",
   "execution_count": null,
   "metadata": {},
   "outputs": [],
   "source": []
  }
 ],
 "metadata": {
  "kernelspec": {
   "display_name": "Python 3",
   "language": "python",
   "name": "python3"
  },
  "language_info": {
   "codemirror_mode": {
    "name": "ipython",
    "version": 3
   },
   "file_extension": ".py",
   "mimetype": "text/x-python",
   "name": "python",
   "nbconvert_exporter": "python",
   "pygments_lexer": "ipython3",
   "version": "3.7.3"
  }
 },
 "nbformat": 4,
 "nbformat_minor": 2
}
